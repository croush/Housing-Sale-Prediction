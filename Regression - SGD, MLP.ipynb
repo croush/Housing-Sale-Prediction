{
 "cells": [
  {
   "cell_type": "code",
   "execution_count": null,
   "metadata": {
    "collapsed": false,
    "scrolled": false
   },
   "outputs": [],
   "source": [
    "#Claire Roush\n",
    "#26 October, 2016\n",
    "#Regression for data set found at https://www.kaggle.com/harlfoxem/housesalesprediction\n",
    "#using Standard Gradient Descent Regressor\n",
    "\n",
    "import pandas\n",
    "from sklearn import metrics\n",
    "from sklearn.linear_model import SGDRegressor\n",
    "from sklearn import cross_validation as cv\n",
    "from sklearn.preprocessing import StandardScaler\n",
    "\n",
    "sgd = SGDRegressor(eta0=0.000000000001,n_iter=750,loss='squared_epsilon_insensitive',learning_rate='constant')\n",
    "scaler = StandardScaler(with_mean='False')\n",
    "\n",
    "house_data = pandas.read_csv('kc_house_data.csv')\n",
    "\n",
    "(house_train, house_test) = cv.train_test_split(house_data, test_size = 0.2)\n",
    "\n",
    "predictors = house_data.columns.values[2:]\n",
    "print(predictors)\n",
    "\n",
    "#normalize the data\n",
    "scaler.fit(house_train[predictors])\n",
    "scaler.transform(house_train[predictors])\n",
    "scaler.transform(house_test[predictors])\n",
    "\n",
    "sgd.fit(house_train[predictors], house_train['price'])\n",
    "\n",
    "house_predictions = sgd.predict(house_test[predictors])\n",
    "\n",
    "print(metrics.mean_squared_error(house_test['price'], house_predictions))\n",
    "print(metrics.mean_absolute_error(house_test['price'], house_predictions))\n",
    "\n",
    "#need to normalize this\n",
    "#mpg_train"
   ]
  },
  {
   "cell_type": "markdown",
   "metadata": {},
   "source": []
  },
  {
   "cell_type": "markdown",
   "metadata": {},
   "source": [
    "### Housing Data Regression Using Stochastic Gradient Descent###\n",
    "\n",
    "#### The Data Set ####\n",
    "The data set selected is from ```https://www.kaggle.com/harlfoxem/housesalesprediction```.\n",
    "From the description:\n",
    "\"This dataset contains house sale prices for King County, which includes Seattle. It includes homes sold between May 2014 and May 2015.\"\n",
    "\n",
    "I selected this data set because I'm in the process of buying a house so it was very relatable. The prediction columns are ```['price' 'bedrooms' 'bathrooms' 'sqft_living' 'sqft_lot' 'floors' 'waterfront' 'view' 'condition' 'grade' 'sqft_above' 'sqft_basement' 'yr_built' 'yr_renovated' 'zipcode' 'lat' 'long' 'sqft_living15''sqft_lot15']``` with a target column of ```price```. There were no missing values, so the only preparation I did was to scale the attributes, as discussed below.\n",
    "\n",
    "\n",
    "#### Learning Rate (eta0) ####\n",
    "\n",
    "The error rates with default SGDRegressor was abysmal, at ```5.97743598434e+39``` for Mean Squared Error (MSE) and ```6.55645550409e+19``` for Mean Absolute Error (MAE). The first thing I did was to set the eta0 to ```0.000001```, which yielded a MSE of ```1.3010661488e+33``` and a MAE of ```2.53670148727e+15```. Then I tried an eta0 value of ```0.000000000001``` which yielded a 46.3 MSE value and a 5.3 MAE. The next step was to find an epoch value that yielded better results. \n",
    "\n",
    "#### Epoch Values ####\n",
    "\n",
    "I selected a variety of epoch values: ```5, 25, 50, 100, 500, 750, 1000``` and plotted their respective average Mean Squared Error values over 10 runs.\n",
    "\n",
    "![Epoch Values](epochValueGraph.png)\n",
    "\n",
    "The numeric average Mean Squared Error values are as follows:\n",
    "\n",
    "| Epochs        | Average MSE   \n",
    "| ------------- |:-------------:|\n",
    "| 5             | 38.7          |\n",
    "| 25            | 9.3           |\n",
    "| 50            | 6.4           |\n",
    "| 100           | 6.9           |\n",
    "| 500           | 3.4           |\n",
    "| 750           | 6.2           |\n",
    "| 1000          | 4.0           |\n",
    "\n",
    "\n",
    "Though I did not run the algorithm 10 times for 2500 epochs to record MSE values, any small benefit didn't seem worth the time needed to run, and didn't meet the 3.4 MSE value of 500 epochs. 500 epochs seemed to be the 'sweet spot' at this time.\n",
    "\n",
    "#### Loss ####\n",
    "\n",
    "The SGDRegressor documentation states that loss defaults to ```squared_loss```. I was curious whether a different loss function would yield smaller error values. A loss function of ```huber``` was catastrophic, but the ```squared_epsilon_insensitive``` function yielded slightly better results. Over 10 runs, the average MSE values were:\n",
    "\n",
    "| Squared Loss  | SEI           |\n",
    "| ------------- |:-------------:|\n",
    "| 3.4           | 2.87          |\n",
    "\n",
    "\n",
    "#### Learning Rate Schedule ####\n",
    "\n",
    "A learning rate schedule of ```constant``` yielded much better results than the default ```optimal```. Over 10 test runs, the MSE values were:\n",
    "\n",
    "| Default       | Constant      |\n",
    "| ------------- |:-------------:|\n",
    "| 3.4           | 0.0168        |\n",
    "\n",
    "#### Normalization ####\n",
    "\n",
    "The SGDRegressor documentation says that the SGD algorithm is sensitive to feature scaling. I used ```StandardScaler``` to scale the training and test set, which didn't seem to help error values.\n",
    "\n",
    "\n",
    "| Not Scaled    | Scaled        |\n",
    "| ------------- |:-------------:|\n",
    "| 0.0168        | 0.1846        |\n",
    "\n"
   ]
  },
  {
   "cell_type": "code",
   "execution_count": 128,
   "metadata": {
    "collapsed": false,
    "scrolled": true
   },
   "outputs": [
    {
     "name": "stdout",
     "output_type": "stream",
     "text": [
      "['price' 'bedrooms' 'bathrooms' 'sqft_living' 'sqft_lot' 'floors'\n",
      " 'waterfront' 'view' 'condition' 'grade' 'sqft_above' 'sqft_basement'\n",
      " 'yr_built' 'yr_renovated' 'zipcode' 'lat' 'long' 'sqft_living15'\n",
      " 'sqft_lot15']\n",
      "96.7698850444\n",
      "7.78510962591\n"
     ]
    }
   ],
   "source": [
    "#Claire Roush\n",
    "#October 27, 2016\n",
    "#Regression for same data set with \n",
    "import pandas\n",
    "from sklearn import metrics\n",
    "from sklearn.neural_network import MLPRegressor\n",
    "from sklearn import model_selection as cv\n",
    "from sklearn.preprocessing import StandardScaler\n",
    "\n",
    "mlp = MLPRegressor(activation='identity',learning_rate_init=0.000000000000001,solver=\"lbfgs\",learning_rate='adaptive')\n",
    "#scaler = StandardScaler()\n",
    "\n",
    "house_data = pandas.read_csv('kc_house_data.csv')\n",
    "(house_train, house_test) = cv.train_test_split(house_data, test_size = 0.2)\n",
    "\n",
    "predictors = house_data.columns.values[2:]\n",
    "print(predictors)\n",
    "\n",
    "#scaler.fit(house_train[predictors])\n",
    "#scaler.transform(house_train[predictors])\n",
    "#scaler.transform(house_test[predictors])\n",
    "\n",
    "mlp.fit(house_train[predictors], house_train['price'])\n",
    "\n",
    "house_predictions = mlp.predict(house_test[predictors])\n",
    "\n",
    "print(metrics.mean_squared_error(house_test['price'], house_predictions))\n",
    "print(metrics.mean_absolute_error(house_test['price'], house_predictions))\n"
   ]
  },
  {
   "cell_type": "code",
   "execution_count": 127,
   "metadata": {
    "collapsed": false
   },
   "outputs": [
    {
     "name": "stdout",
     "output_type": "stream",
     "text": [
      "23.314\n",
      "12.815000000000001\n",
      "21.787999999999997\n",
      "8.873999999999999\n",
      "16.8024\n"
     ]
    },
    {
     "data": {
      "text/plain": [
       "[]"
      ]
     },
     "execution_count": 127,
     "metadata": {},
     "output_type": "execute_result"
    },
    {
     "data": {
      "image/png": "[encoded data removed]",
      "text/plain": [
       "<matplotlib.figure.Figure at 0x113daac88>"
      ]
     },
     "metadata": {},
     "output_type": "display_data"
    }
   ],
   "source": [
    "import matplotlib.pyplot as plt\n",
    "%matplotlib inline\n",
    "\n",
    "nums = [59.4,8,66.63,0.19,27.5,47.97,14.5,1.49,7.27,0.19]\n",
    "nums = pandas.Series(nums)\n",
    "print(nums.mean())\n",
    "nums2 = [2.53,5.15,3.99,30.7,4.13,6.42,50.75,21.0,2.26,1.22]\n",
    "nums2 = pandas.Series(nums2)\n",
    "print(nums2.mean())\n",
    "nums3 = [38.67,0.05,14.43,0.12,0.44,92.5,5.5,5.97,0.22,59.98]\n",
    "nums3 = pandas.Series(nums3)\n",
    "print(nums3.mean())\n",
    "nums4 = [1.63,0.08,3.64,3.66,6.8,0.09,11.22,49.82,4.94,6.86]\n",
    "nums4 = pandas.Series(nums4)\n",
    "print(nums4.mean())\n",
    "nums5 = [0.074,36.71,32.4,22.4,7.16,4.7,0.46,30.5,30.5,3.12]\n",
    "nums5 = pandas.Series(nums5)\n",
    "print(nums5.mean())\n",
    "x = [nums.mean(),nums2.mean(),nums3.mean(),nums4.mean()]\n",
    "y = [0.00001,0.0000001,0.000000001,0.00000000001]\n",
    "plt.plot(x,y)\n",
    "plt.xlabel('MSE')\n",
    "plt.ylabel('Learning Rate Init')\n",
    "plt.plot()"
   ]
  },
  {
   "cell_type": "markdown",
   "metadata": {},
   "source": [
    "### Housing Data Regression Using Stochastic Gradient Descent###\n",
    "\n",
    "#### MLP Default ###\n",
    "Default average MSE value was ```146343.48``` over 10 runs. It was also very slow.\n",
    "\n",
    "#### Solver ####\n",
    "\n",
    "The documentation for MLPRegressor says that for smaller data sets, ```lbfgs``` solver may perform better. I tried that with a ```learning_rate_init``` of ```0.00001``` and the results were better, with an average MSE value of ```43138.455``` over 10 runs.\n",
    "\n",
    "#### Activation Function ####\n",
    "\n",
    "The activation function seemed to be very important in MSE and MAE values. With an activation of ```identity```, and a learning rate of ```adaptive```, the average MSE values over 10 runs dropped to ```10.05```.\n",
    "\n",
    "#### Initial Learning Rate ####\n",
    "\n",
    "The initial learning rate took some adjusting. \n",
    "\n",
    "![learning_rate_init](initLRgraph.png)\n",
    "\n",
    "| Learning Rate  | Average MSE   \n",
    "| -------------  |:-------------:|\n",
    "| 0.00001        | 23.31         |\n",
    "| 0.0000001      | 12.82         |\n",
    "| 0.00000000001  | 8.87          |\n",
    "| 0.0000000000001| 16.8          |\n",
    "\n",
    "Numbers less than 1x10^-13 yielded higher MSE values.\n",
    "\n",
    "#### Conclusion ####\n",
    "\n",
    "Other settings listed in the MLP documentation didn't make significant improvements to the MSE values. \n",
    "\n",
    "The SGD algorithm performed significantly better than MLP. INSERT REASONING HERE"
   ]
  },
  {
   "cell_type": "code",
   "execution_count": null,
   "metadata": {
    "collapsed": true
   },
   "outputs": [],
   "source": []
  }
 ],
 "metadata": {
  "anaconda-cloud": {},
  "kernelspec": {
   "display_name": "Python [Root]",
   "language": "python",
   "name": "Python [Root]"
  },
  "language_info": {
   "codemirror_mode": {
    "name": "ipython",
    "version": 3
   },
   "file_extension": ".py",
   "mimetype": "text/x-python",
   "name": "python",
   "nbconvert_exporter": "python",
   "pygments_lexer": "ipython3",
   "version": "3.5.2"
  }
 },
 "nbformat": 4,
 "nbformat_minor": 0
}
