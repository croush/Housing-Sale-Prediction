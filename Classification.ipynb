{
 "cells": [
  {
   "cell_type": "code",
   "execution_count": 51,
   "metadata": {
    "collapsed": false
   },
   "outputs": [
    {
     "name": "stdout",
     "output_type": "stream",
     "text": [
      "0.784044016506\n",
      "['AGE', 'FNLWGT', 'EDNUM', 'CAPITALG', 'CAPITALL', 'HPW', ' ', ' Federal-gov', ' Local-gov', ' Private', ' Self-emp-inc', ' Self-emp-not-inc', ' State-gov', ' Without-pay', ' 10th', ' 11th', ' 12th', ' 1st-4th', ' 5th-6th', ' 7th-8th', ' 9th', ' Assoc-acdm', ' Assoc-voc', ' Bachelors', ' Doctorate', ' HS-grad', ' Masters', ' Preschool', ' Prof-school', ' Some-college', ' Divorced', ' Married-AF-spouse', ' Married-civ-spouse', ' Married-spouse-absent', ' Never-married', ' Separated', ' Widowed', ' ', ' Adm-clerical', ' Armed-Forces', ' Craft-repair', ' Exec-managerial', ' Farming-fishing', ' Handlers-cleaners', ' Machine-op-inspct', ' Other-service', ' Priv-house-serv', ' Prof-specialty', ' Protective-serv', ' Sales', ' Tech-support', ' Transport-moving', ' Husband', ' Not-in-family', ' Other-relative', ' Own-child', ' Unmarried', ' Wife', ' Amer-Indian-Eskimo', ' Asian-Pac-Islander', ' Black', ' Other', ' White', ' Female', ' Male', ' ', ' Cambodia', ' Canada', ' China', ' Columbia', ' Cuba', ' Dominican-Republic', ' Ecuador', ' El-Salvador', ' England', ' France', ' Germany', ' Greece', ' Guatemala', ' Haiti', ' Honduras', ' Hong', ' India', ' Iran', ' Ireland', ' Italy', ' Jamaica', ' Japan', ' Laos', ' Mexico', ' Nicaragua', ' Outlying-US(Guam-USVI-etc)', ' Peru', ' Philippines', ' Poland', ' Portugal', ' Puerto-Rico', ' Scotland', ' South', ' Taiwan', ' Thailand', ' Trinadad&Tobago', ' United-States', ' Vietnam', ' Yugoslavia']\n"
     ]
    }
   ],
   "source": [
    "#Claire Roush\n",
    "#Machine Learning\n",
    "#Classification algorithm on Adult Data set from https://archive.ics.uci.edu/ml/datasets/Adult\n",
    "#Using Stochastic Gradient Descent Classifier and Random Forest Classifier from SciKitLearn\n",
    "\n",
    "import pandas\n",
    "import numpy as np\n",
    "from sklearn import metrics\n",
    "from sklearn.linear_model import SGDClassifier\n",
    "from sklearn import model_selection as cv\n",
    "from sklearn.preprocessing import StandardScaler\n",
    "from sklearn.feature_extraction import DictVectorizer\n",
    "from sklearn.preprocessing import LabelEncoder\n",
    "\n",
    "sgd = SGDClassifier(eta0=0.00000000001, n_iter=2000)\n",
    "scaler = StandardScaler()\n",
    "adult_data = pandas.read_csv('adult.csv')\n",
    "\n",
    "#\n",
    "adult_data.fillna(adult_data.mode().iloc[1:])\n",
    "df_work = pandas.get_dummies(adult_data['WORKCLASS'])\n",
    "df_ed = pandas.get_dummies(adult_data['EDUCATION'])\n",
    "df_marital = pandas.get_dummies(adult_data['MARITAL'])\n",
    "df_occ = pandas.get_dummies(adult_data['OCCUPATION'])\n",
    "df_rel = pandas.get_dummies(adult_data['RELATIONSHIP'])\n",
    "df_race = pandas.get_dummies(adult_data['RACE'])\n",
    "df_sex = pandas.get_dummies(adult_data['SEX'])\n",
    "df_co = pandas.get_dummies(adult_data['COUNTRY'])\n",
    "\n",
    "\n",
    "adult_data = pandas.concat([adult_data, df_work], axis=1)\n",
    "adult_data = adult_data.drop('WORKCLASS',1)\n",
    "adult_data = pandas.concat([adult_data, df_ed], axis=1)\n",
    "adult_data = adult_data.drop('EDUCATION',1)\n",
    "adult_data = pandas.concat([adult_data, df_marital], axis=1)\n",
    "adult_data = adult_data.drop('MARITAL',1)\n",
    "adult_data = pandas.concat([adult_data, df_occ], axis=1)\n",
    "adult_data = adult_data.drop('OCCUPATION',1)\n",
    "adult_data = pandas.concat([adult_data, df_rel], axis=1)\n",
    "adult_data = adult_data.drop('RELATIONSHIP',1)\n",
    "adult_data = pandas.concat([adult_data, df_race], axis=1)\n",
    "adult_data = adult_data.drop('RACE',1)\n",
    "adult_data = pandas.concat([adult_data, df_sex], axis=1)\n",
    "adult_data = adult_data.drop('SEX',1)\n",
    "adult_data = pandas.concat([adult_data, df_co], axis=1)\n",
    "adult_data = adult_data.drop('COUNTRY',1)\n",
    "\n",
    "\n",
    "(adult_train, adult_test) = cv.train_test_split(adult_data, test_size = 0.2)\n",
    "\n",
    "attribs = adult_data.columns.values.tolist()\n",
    "attribs.remove('SALARY')\n",
    "\n",
    "#normalize the data\n",
    "scaler.fit(adult_train[attribs])\n",
    "scaler.transform(adult_train[attribs])\n",
    "scaler.transform(adult_test[attribs])\n",
    "\n",
    "sgd.fit(adult_train[attribs],adult_train['SALARY'])\n",
    "adult_predictions = sgd.predict(adult_test[attribs])\n",
    "print(metrics.accuracy_score(adult_test[\"SALARY\"], adult_predictions))\n",
    "\n",
    "print(attribs)\n"
   ]
  },
  {
   "cell_type": "code",
   "execution_count": 47,
   "metadata": {
    "collapsed": false
   },
   "outputs": [
    {
     "data": {
      "text/plain": [
       "[<matplotlib.lines.Line2D at 0x11a8e6e48>]"
      ]
     },
     "execution_count": 47,
     "metadata": {},
     "output_type": "execute_result"
    },
    {
     "data": {
      "image/png": "[encoded data removed]",
      "text/plain": [
       "<matplotlib.figure.Figure at 0x11a8e6400>"
      ]
     },
     "metadata": {},
     "output_type": "display_data"
    }
   ],
   "source": [
    "import matplotlib.pyplot as plt\n",
    "%matplotlib inline\n",
    "\n",
    "y = [500,1000,58.6,54.3]\n",
    "x = [78.2,78.4,1500,2000]\n",
    "plt.xlabel('Accuracy')\n",
    "plt.ylabel('Epochs')\n",
    "plt.plot(y,x)\n"
   ]
  },
  {
   "cell_type": "markdown",
   "metadata": {},
   "source": [
    "## Classification ###\n",
    "\n",
    "#### The Data ####\n",
    "The Adult dataset, of Census Income dataset, from UCI Machine Learning Datasets predicts income (above or below $50k/year) based on several predictive attributes. Attributes used in prediction are:\n",
    "\n",
    "| Attribute   | Values   \n",
    "| ------------|:-----------------------------:|\n",
    "| WORKCLASS   | Private/Self employed/...     |\n",
    "| FNLWGT      | Final weight, numerical       |\n",
    "| EDUCATION   | Bachelors/HS/...              |\n",
    "| MARITAL     | Married/Divorced/...          |\n",
    "| OCCUPATION  | Adm-clerical/Exec-manager/... |\n",
    "| RELATIONSHIP| Not-in-family/Husband/Wife... |\n",
    "| RACE        | White/Black/...               |\n",
    "| SEX         | Male/Female                   |\n",
    "| CAPITALG    | Capital gains, numerical      |\n",
    "| CAPITALL    | Capital loss, numerical       |\n",
    "| HPW         | Hours per week, numerical     |\n",
    "| COUNTRY     | United States/Cuba/...        |\n",
    "| SALARY      | >=50k/<50k                    |\n",
    "\n",
    "##### Data Preparation #####\n",
    "\n",
    "First, I did a find/replace in Sublime to replace all '?' characters with an empty space, and replace ```'<=50K'``` with 1 and ```'>50K'``` with 2. Next, I used the pandas ```mode()``` function to replace missing values with the mode of that column. I used pandas ```get_dummies``` to convert string categorical columns into numerical categorical columns, then dropped each respective \"parent\" columns, and normalized the data with StandardScaler.\n",
    "\n",
    "### Stochastic Gradient Descent###\n",
    "\n",
    "\n",
    "Without any setting customization, average accuracy was 0.64. With an ```eta0``` value of ```0.0000001```, accuracy rose to 0.77.\n",
    "\n",
    "![eta0](epochValueGraphC.png)\n",
    "\n",
    "Any further reduction of ```eta0``` produced reduced average accuracy values over 10 runs.\n",
    "\n",
    "![eta0](epochValueGraphC2.png)\n",
    "\n",
    "\n",
    "Other customization, such as setting ```learning_rate``` to ```optimal```, or ```constant```, increasing ```n_iter``` to values as low as 1 and as high as 10,000, and even customizing the ```alpha``` value, yielded similar results or worse results.\n",
    "\n",
    "The optimal epoch value was 1000. Any more and accuracy suffered.\n",
    "\n",
    "![eta0](epochValClass.png)\n",
    "\n",
    "\n",
    "With ```learning_rate``` set to ```invscaling```, epochs at ```1000```, and ```eta0``` at ```0.0000001```, accuracy rose to 0.784 over 10 runs.\n",
    "\n",
    "Perhaps the SGD algorithm isn't the best algorithm for this data set.\n",
    "\n",
    "### Random Forest ###\n",
    "\n",
    "Right \"out of the box\", the RandomForestClassifier yielded an average accuracy score of 0.843. With ```n_estimators``` set to 25, accuracy was an average of 84.7% over 10 runs, and 85.25% at 200.\n",
    "\n",
    "![n_estimators](rfEstimators.png)\n",
    "\n",
    "I thought that perhaps I could increase ```n_estimators``` while setting ```min_samples_split``` to a number that improved performance to get better accuracy. However, the accuracy increases were minimal. The highest accuracy was with 500 trees and ```min_samples_split``` at 15, at an average of 85.6% over 10 runs. Any more trees and the poor performance outweighed any negligible benefit.\n"
   ]
  },
  {
   "cell_type": "code",
   "execution_count": 52,
   "metadata": {
    "collapsed": false
   },
   "outputs": [
    {
     "name": "stdout",
     "output_type": "stream",
     "text": [
      "0.839064649243\n"
     ]
    }
   ],
   "source": [
    "from sklearn.ensemble import RandomForestClassifier\n",
    "rf = RandomForestClassifier(n_estimators=500,min_samples_split=20)\n",
    "rf.fit(adult_train[attribs],adult_train['SALARY'])\n",
    "rf_predictions = rf.predict(adult_test[attribs])\n",
    "print(metrics.accuracy_score(rf_predictions,adult_test['SALARY']))"
   ]
  },
  {
   "cell_type": "code",
   "execution_count": null,
   "metadata": {
    "collapsed": true
   },
   "outputs": [],
   "source": []
  }
 ],
 "metadata": {
  "anaconda-cloud": {},
  "kernelspec": {
   "display_name": "Python [Root]",
   "language": "python",
   "name": "Python [Root]"
  },
  "language_info": {
   "codemirror_mode": {
    "name": "ipython",
    "version": 3
   },
   "file_extension": ".py",
   "mimetype": "text/x-python",
   "name": "python",
   "nbconvert_exporter": "python",
   "pygments_lexer": "ipython3",
   "version": "3.5.2"
  }
 },
 "nbformat": 4,
 "nbformat_minor": 0
}
